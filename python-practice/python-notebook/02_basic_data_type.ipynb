{
 "cells": [
  {
   "cell_type": "markdown",
   "source": [
    "在Python中，常见的数据类型包括：\n",
    "1. 整型（int）：表示整数，如1，-5，100等。\n",
    "2. 浮点型（float）：表示带有小数部分的数字，如3.14，-0.5等。\n",
    "3. 字符串（str）：表示一串字符，可以使用单引号或双引号括起来，如\"hello\"，'world'等。\n",
    "4. 布尔型（bool）：表示真（True）或假（False）的值。\n",
    "5. 列表（list）：表示一组有序的元素，可以包含不同类型的数据，用方括号括起来，如[1, 2, 3]，['a', 'b', 'c']等。\n",
    "6. 元组（tuple）：类似于列表，但是元素不可修改，用圆括号括起来，如(1, 2, 3)，('a', 'b', 'c')等。\n",
    "7. 集合（set）：表示一组无序且唯一的元素，用大括号括起来，如{1, 2, 3}，{'a', 'b', 'c'}等。\n",
    "8. 字典（dict）：表示一组键值对的集合，用大括号括起来，如{'name': 'Alice', 'age': 20}等。"
   ],
   "metadata": {
    "collapsed": false
   },
   "id": "d63160a6c8795a02"
  },
  {
   "cell_type": "markdown",
   "source": [
    "## int 整型"
   ],
   "metadata": {
    "collapsed": false
   },
   "id": "27b2a01254ee0078"
  },
  {
   "cell_type": "code",
   "execution_count": 10,
   "outputs": [
    {
     "name": "stdout",
     "output_type": "stream",
     "text": [
      "<class 'int'>\n"
     ]
    }
   ],
   "source": [
    "age = 10\n",
    "print(type(age))"
   ],
   "metadata": {
    "collapsed": false,
    "ExecuteTime": {
     "end_time": "2023-12-09T02:25:07.138996500Z",
     "start_time": "2023-12-09T02:25:07.120344400Z"
    }
   },
   "id": "92dfe24c2a2bd77b"
  },
  {
   "cell_type": "markdown",
   "source": [
    "## float 浮点型"
   ],
   "metadata": {
    "collapsed": false
   },
   "id": "92d618e9806787a9"
  },
  {
   "cell_type": "code",
   "execution_count": 11,
   "outputs": [
    {
     "name": "stdout",
     "output_type": "stream",
     "text": [
      "<class 'float'>\n"
     ]
    }
   ],
   "source": [
    "price = 30.50\n",
    "print(type(price))"
   ],
   "metadata": {
    "collapsed": false,
    "ExecuteTime": {
     "end_time": "2023-12-09T02:25:07.170219700Z",
     "start_time": "2023-12-09T02:25:07.145000700Z"
    }
   },
   "id": "ee7e84ff6d3101e4"
  },
  {
   "cell_type": "markdown",
   "source": [
    "## 数字类型一般有运算和判断大小"
   ],
   "metadata": {
    "collapsed": false
   },
   "id": "923823642f10707c"
  },
  {
   "cell_type": "markdown",
   "source": [
    "- 运算"
   ],
   "metadata": {
    "collapsed": false
   },
   "id": "348ec85013f85f70"
  },
  {
   "cell_type": "code",
   "execution_count": 12,
   "outputs": [
    {
     "name": "stdout",
     "output_type": "stream",
     "text": [
      "65\n"
     ]
    }
   ],
   "source": [
    "a = 5\n",
    "b = 60\n",
    "print(a + b)"
   ],
   "metadata": {
    "collapsed": false,
    "ExecuteTime": {
     "end_time": "2023-12-09T02:25:07.202288200Z",
     "start_time": "2023-12-09T02:25:07.152890100Z"
    }
   },
   "id": "f91d3dfbbf2a76d1"
  },
  {
   "cell_type": "markdown",
   "source": [
    "- 比较大小"
   ],
   "metadata": {
    "collapsed": false
   },
   "id": "cb9a5ebc7fa7c966"
  },
  {
   "cell_type": "code",
   "execution_count": 13,
   "outputs": [
    {
     "name": "stdout",
     "output_type": "stream",
     "text": [
      "False\n"
     ]
    }
   ],
   "source": [
    "c = 70\n",
    "d = 80\n",
    "print(c > d)"
   ],
   "metadata": {
    "collapsed": false,
    "ExecuteTime": {
     "end_time": "2023-12-09T02:25:07.218555400Z",
     "start_time": "2023-12-09T02:25:07.207383700Z"
    }
   },
   "id": "9b5b0d7079aa316c"
  },
  {
   "cell_type": "markdown",
   "source": [
    "## 字符串"
   ],
   "metadata": {
    "collapsed": false
   },
   "id": "83cc399b07a4c3f9"
  },
  {
   "cell_type": "code",
   "execution_count": 14,
   "outputs": [],
   "source": [
    "name = \"Shey Chang\""
   ],
   "metadata": {
    "collapsed": false,
    "ExecuteTime": {
     "end_time": "2023-12-09T02:25:07.246524800Z",
     "start_time": "2023-12-09T02:25:07.224243800Z"
    }
   },
   "id": "b429c7b6190715eb"
  },
  {
   "cell_type": "markdown",
   "source": [
    "在Python中定义字符串可以有不同的方式，单引号，双引号，多引号等，都是可以的"
   ],
   "metadata": {
    "collapsed": false
   },
   "id": "7a11dcc7d78f0ba0"
  },
  {
   "cell_type": "code",
   "execution_count": 15,
   "outputs": [],
   "source": [
    "name_1 = 'Shey Chang'\n",
    "name_2 = \"Shey Chang\"\n",
    "name_3 = '''Shey Chang'''\n",
    "name_4 = \"\"\"Shey Chang\"\"\""
   ],
   "metadata": {
    "collapsed": false,
    "ExecuteTime": {
     "end_time": "2023-12-09T02:25:07.247538600Z",
     "start_time": "2023-12-09T02:25:07.230577100Z"
    }
   },
   "id": "68a103812bd36e31"
  },
  {
   "cell_type": "markdown",
   "source": [
    "字符串也是可以相加相乘运算的"
   ],
   "metadata": {
    "collapsed": false
   },
   "id": "c70f6730c09a9eb9"
  },
  {
   "cell_type": "markdown",
   "source": [
    "- 相乘"
   ],
   "metadata": {
    "collapsed": false
   },
   "id": "406db0ba0303048d"
  },
  {
   "cell_type": "code",
   "execution_count": 16,
   "outputs": [
    {
     "name": "stdout",
     "output_type": "stream",
     "text": [
      "SheySheyShey\n"
     ]
    }
   ],
   "source": [
    "e = \"Shey\"\n",
    "print(e * 3) "
   ],
   "metadata": {
    "collapsed": false,
    "ExecuteTime": {
     "end_time": "2023-12-09T02:25:07.260238Z",
     "start_time": "2023-12-09T02:25:07.246524800Z"
    }
   },
   "id": "10acd155db58424"
  },
  {
   "cell_type": "markdown",
   "source": [
    "- 相加"
   ],
   "metadata": {
    "collapsed": false
   },
   "id": "50ed503a0813a6bf"
  },
  {
   "cell_type": "code",
   "execution_count": 17,
   "outputs": [
    {
     "name": "stdout",
     "output_type": "stream",
     "text": [
      "Shey Hello\n"
     ]
    }
   ],
   "source": [
    "f = \"Shey\"\n",
    "print(f + \" Hello\")"
   ],
   "metadata": {
    "collapsed": false,
    "ExecuteTime": {
     "end_time": "2023-12-09T02:25:07.293855700Z",
     "start_time": "2023-12-09T02:25:07.262788800Z"
    }
   },
   "id": "7683b4c0d8a3b2f7"
  },
  {
   "cell_type": "markdown",
   "source": [
    "注意与 Java 是不一样的，只能同类型之间相加，和 Java 字符串与数字相加成为字符串是不一样的\n",
    "Error: `print(\"hello\" + 3)`"
   ],
   "metadata": {
    "collapsed": false
   },
   "id": "700d1bdc51193ae3"
  },
  {
   "cell_type": "markdown",
   "source": [
    "## 布尔值"
   ],
   "metadata": {
    "collapsed": false
   },
   "id": "b6ece2caafc291c2"
  },
  {
   "cell_type": "code",
   "execution_count": 18,
   "outputs": [
    {
     "name": "stdout",
     "output_type": "stream",
     "text": [
      "True <class 'bool'>\n"
     ]
    }
   ],
   "source": [
    "boolean_true = True\n",
    "print(boolean_true, type(boolean_true))"
   ],
   "metadata": {
    "collapsed": false,
    "ExecuteTime": {
     "end_time": "2023-12-09T02:25:07.294853Z",
     "start_time": "2023-12-09T02:25:07.277521100Z"
    }
   },
   "id": "7cd19f59c588e9b"
  }
 ],
 "metadata": {
  "kernelspec": {
   "display_name": "Python 3",
   "language": "python",
   "name": "python3"
  },
  "language_info": {
   "codemirror_mode": {
    "name": "ipython",
    "version": 2
   },
   "file_extension": ".py",
   "mimetype": "text/x-python",
   "name": "python",
   "nbconvert_exporter": "python",
   "pygments_lexer": "ipython2",
   "version": "2.7.6"
  }
 },
 "nbformat": 4,
 "nbformat_minor": 5
}
