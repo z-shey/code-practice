{
 "cells": [
  {
   "cell_type": "markdown",
   "source": [
    "在Python中，可以使用input()函数从用户那里获取输入，并使用print()函数将结果输出到屏幕上。"
   ],
   "metadata": {
    "collapsed": false
   },
   "id": "f8c53b080aa0e7ee"
  },
  {
   "cell_type": "markdown",
   "source": [
    "## 输入（input）函数\n",
    "\n",
    "input()函数用于从用户那里获取输入。它会在程序执行时暂停，等待用户提供输入，并返回一个字符串类型的值。\n",
    "可以在input()函数中提供一个字符串参数作为提示信息，显示给用户。"
   ],
   "metadata": {
    "collapsed": false
   },
   "id": "f55289fae969166e"
  },
  {
   "cell_type": "code",
   "execution_count": 27,
   "outputs": [],
   "source": [
    "# name = input(\"请输入您的姓名：\")\n",
    "# print(\"您的姓名是：\", name)"
   ],
   "metadata": {
    "collapsed": false,
    "ExecuteTime": {
     "end_time": "2023-12-10T04:11:01.090856900Z",
     "start_time": "2023-12-10T04:11:00.980996500Z"
    }
   },
   "id": "f4aad0487d8cb593"
  },
  {
   "cell_type": "markdown",
   "source": [
    "用户输入的内容通常以字符串形式返回，如果需要将其转换为其他数据类型，比如整数或浮点数，可以使用相应的类型转换函数。"
   ],
   "metadata": {
    "collapsed": false
   },
   "id": "daa171bdbd4a835e"
  },
  {
   "cell_type": "code",
   "execution_count": 28,
   "outputs": [],
   "source": [
    "# list_1 = input(\"请输入一个数字列表\")\n",
    "# print(list_1)\n",
    "# print(type(list_1))"
   ],
   "metadata": {
    "collapsed": false,
    "ExecuteTime": {
     "end_time": "2023-12-10T04:11:01.117769200Z",
     "start_time": "2023-12-10T04:11:01.094840900Z"
    }
   },
   "id": "9eeded29815b0107"
  },
  {
   "cell_type": "markdown",
   "source": [
    "## 输出（print）函数\n",
    "\n",
    "print()函数用于将结果输出到屏幕上。它接受一个或多个参数，并将它们打印在一行上。\n",
    "可以传递多个参数给print()函数，它们将按顺序打印在一行上，并用默认的空格分隔。"
   ],
   "metadata": {
    "collapsed": false
   },
   "id": "87aba3c6d207e3ef"
  },
  {
   "cell_type": "code",
   "execution_count": 29,
   "outputs": [
    {
     "name": "stdout",
     "output_type": "stream",
     "text": [
      "Hello World!\n"
     ]
    }
   ],
   "source": [
    "print(\"Hello\", \"World!\")"
   ],
   "metadata": {
    "collapsed": false,
    "ExecuteTime": {
     "end_time": "2023-12-10T04:11:01.145632300Z",
     "start_time": "2023-12-10T04:11:01.113759400Z"
    }
   },
   "id": "e971187258e10344"
  },
  {
   "cell_type": "markdown",
   "source": [
    "默认情况下，print()函数在打印完所有参数后会自动换行。如果不希望换行，可以使用end参数来指定结束符。end参数默认值为\"\\n\"(代表换行)，可以将end参数的值改成任意其它字符"
   ],
   "metadata": {
    "collapsed": false
   },
   "id": "a1d9a9148c224c74"
  },
  {
   "cell_type": "code",
   "execution_count": 30,
   "outputs": [
    {
     "name": "stdout",
     "output_type": "stream",
     "text": [
      "HelloHello123\n",
      "Hello&Hello123\n",
      "Hello@Hello123\n"
     ]
    }
   ],
   "source": [
    "print(\"Hello\", end=\"\")\n",
    "print(\"Hello123\")\n",
    "print(\"Hello\",end='&')\n",
    "print(\"Hello123\")\n",
    "print(\"Hello\",end='@')\n",
    "print(\"Hello123\")"
   ],
   "metadata": {
    "collapsed": false,
    "ExecuteTime": {
     "end_time": "2023-12-10T04:11:01.146631900Z",
     "start_time": "2023-12-10T04:11:01.128725300Z"
    }
   },
   "id": "ac3c2a110f8f5b89"
  },
  {
   "cell_type": "markdown",
   "source": [
    "也可以使用sep参数来指定参数之间的分隔符，默认为一个空格。例如：print(\"Hello\", \"World!\", sep=\", \")。"
   ],
   "metadata": {
    "collapsed": false
   },
   "id": "4fe7a44afbdfb44d"
  },
  {
   "cell_type": "code",
   "execution_count": 31,
   "outputs": [
    {
     "name": "stdout",
     "output_type": "stream",
     "text": [
      "Hello World!\n",
      "Hello, World!\n"
     ]
    }
   ],
   "source": [
    "print(\"Hello\", \"World!\")\n",
    "print(\"Hello\", \"World!\", sep=\", \")"
   ],
   "metadata": {
    "collapsed": false,
    "ExecuteTime": {
     "end_time": "2023-12-10T04:11:01.211461200Z",
     "start_time": "2023-12-10T04:11:01.149621200Z"
    }
   },
   "id": "7d7225d3e23b2e52"
  },
  {
   "cell_type": "markdown",
   "source": [],
   "metadata": {
    "collapsed": false
   },
   "id": "3f431569292763a6"
  },
  {
   "cell_type": "markdown",
   "source": [
    "## 格式化输出\n",
    "\n",
    "在Python中，格式化输出是指将变量的值插入到一个字符串中，以便更方便地输出。"
   ],
   "metadata": {
    "collapsed": false
   },
   "id": "4f7fa7118168e6bc"
  },
  {
   "cell_type": "markdown",
   "source": [
    "1. 使用%运算符进行格式化输出\n",
    "\n",
    "通过使用%操作符将变量的值插入到一个字符串中。\n",
    "%左边的字符串包含格式化说明符，以指定如何格式化变量的值。"
   ],
   "metadata": {
    "collapsed": false
   },
   "id": "71e1f8e52333b7cf"
  },
  {
   "cell_type": "code",
   "execution_count": 32,
   "outputs": [
    {
     "name": "stdout",
     "output_type": "stream",
     "text": [
      "Hello, World!\n"
     ]
    }
   ],
   "source": [
    "print(\"Hello, %s!\" % \"World\")"
   ],
   "metadata": {
    "collapsed": false,
    "ExecuteTime": {
     "end_time": "2023-12-10T04:11:01.214479300Z",
     "start_time": "2023-12-10T04:11:01.160579100Z"
    }
   },
   "id": "298b85f80d24ba14"
  },
  {
   "cell_type": "markdown",
   "source": [
    "%s表示将字符串\"World\"插入到字符串中。"
   ],
   "metadata": {
    "collapsed": false
   },
   "id": "9a9a4cdfc25d9e04"
  },
  {
   "cell_type": "markdown",
   "source": [
    "可以使用多个格式化说明符，用逗号分隔它们。"
   ],
   "metadata": {
    "collapsed": false
   },
   "id": "5fda1ddc8cd5bb19"
  },
  {
   "cell_type": "code",
   "execution_count": 33,
   "outputs": [
    {
     "name": "stdout",
     "output_type": "stream",
     "text": [
      "Hello, World! Hello\n"
     ]
    }
   ],
   "source": [
    "print(\"Hello, %s! %s\" % (\"World\", \"Hello\"))"
   ],
   "metadata": {
    "collapsed": false,
    "ExecuteTime": {
     "end_time": "2023-12-10T04:11:01.226401800Z",
     "start_time": "2023-12-10T04:11:01.175565300Z"
    }
   },
   "id": "b91360669511b020"
  },
  {
   "cell_type": "markdown",
   "source": [
    "2. 使用format()方法进行格式化输出\n",
    "\n",
    "Python 2.6开始，新增了一种格式化字符串的函数：format()。\n",
    "format()方法可以接受不限个参数，每个参数对应一个位置。"
   ],
   "metadata": {
    "collapsed": false
   },
   "id": "a4a4417e7bb03676"
  },
  {
   "cell_type": "code",
   "execution_count": 34,
   "outputs": [
    {
     "name": "stdout",
     "output_type": "stream",
     "text": [
      "Hello, World!\n"
     ]
    }
   ],
   "source": [
    "print(\"Hello, {}!\".format(\"World\"))"
   ],
   "metadata": {
    "collapsed": false,
    "ExecuteTime": {
     "end_time": "2023-12-10T04:11:01.279233500Z",
     "start_time": "2023-12-10T04:11:01.216410500Z"
    }
   },
   "id": "6ebe0730964f568b"
  },
  {
   "cell_type": "markdown",
   "source": [
    "format()方法可以接受不限个参数，每个参数对应一个位置。"
   ],
   "metadata": {
    "collapsed": false
   },
   "id": "5e15c32d4ec0afa5"
  },
  {
   "cell_type": "markdown",
   "source": [
    "可以给format()方法传递多个参数，并使用索引来指定它们的位置。"
   ],
   "metadata": {
    "collapsed": false
   },
   "id": "37fa5c532b42027f"
  },
  {
   "cell_type": "code",
   "execution_count": 35,
   "outputs": [
    {
     "name": "stdout",
     "output_type": "stream",
     "text": [
      "Hello, World! Hello\n"
     ]
    }
   ],
   "source": [
    "print(\"Hello, {0}! {1}\".format(\"World\", \"Hello\"))"
   ],
   "metadata": {
    "collapsed": false,
    "ExecuteTime": {
     "end_time": "2023-12-10T04:11:01.306137700Z",
     "start_time": "2023-12-10T04:11:01.283234500Z"
    }
   },
   "id": "7f015a8a4fd23e86"
  },
  {
   "cell_type": "markdown",
   "source": [
    "还可以使用关键字参数来指定参数的位置。"
   ],
   "metadata": {
    "collapsed": false
   },
   "id": "514061771fcf7128"
  },
  {
   "cell_type": "code",
   "execution_count": 36,
   "outputs": [
    {
     "name": "stdout",
     "output_type": "stream",
     "text": [
      "Hello, World!\n"
     ]
    }
   ],
   "source": [
    "print(\"Hello, {name}!\".format(name=\"World\"))"
   ],
   "metadata": {
    "collapsed": false,
    "ExecuteTime": {
     "end_time": "2023-12-10T04:11:01.342018900Z",
     "start_time": "2023-12-10T04:11:01.300164400Z"
    }
   },
   "id": "64fb3a251f5bc5b1"
  },
  {
   "cell_type": "markdown",
   "source": [
    "3. 使用f-strings进行格式化输出\n",
    "\n",
    "f-strings是Python 3.6中引入的一种新语法，它允许将变量插入到字符串中。\n",
    "f-strings以字母\"f\"或\"F\"开头，后面跟着一个字符串。在字符串中可以使用花括号来引用变量"
   ],
   "metadata": {
    "collapsed": false
   },
   "id": "d3ad0e48d9d0e280"
  },
  {
   "cell_type": "code",
   "execution_count": 37,
   "outputs": [
    {
     "name": "stdout",
     "output_type": "stream",
     "text": [
      "Hello, World!\n"
     ]
    }
   ],
   "source": [
    "name_1 = \"World\"\n",
    "print(f\"Hello, {name_1}!\")"
   ],
   "metadata": {
    "collapsed": false,
    "ExecuteTime": {
     "end_time": "2023-12-10T04:11:01.343016Z",
     "start_time": "2023-12-10T04:11:01.316105400Z"
    }
   },
   "id": "dce120758306dc04"
  },
  {
   "cell_type": "markdown",
   "source": [
    "在变量名后面可以加上格式说明符，用于指定如何格式化变量的值。"
   ],
   "metadata": {
    "collapsed": false
   },
   "id": "834a030622485bc3"
  },
  {
   "cell_type": "code",
   "execution_count": 38,
   "outputs": [
    {
     "name": "stdout",
     "output_type": "stream",
     "text": [
      "The value of pi is approximately 3.14.\n"
     ]
    }
   ],
   "source": [
    "pi = 3.14159265358979323846264338327\n",
    "print(f\"The value of pi is approximately {pi:.2f}.\")"
   ],
   "metadata": {
    "collapsed": false,
    "ExecuteTime": {
     "end_time": "2023-12-10T04:11:01.385868Z",
     "start_time": "2023-12-10T04:11:01.345008500Z"
    }
   },
   "id": "ddd56ec72b1fad5c"
  },
  {
   "cell_type": "markdown",
   "source": [
    "## 运算符"
   ],
   "metadata": {
    "collapsed": false
   },
   "id": "d67032b3c590d7f2"
  },
  {
   "cell_type": "markdown",
   "source": [
    "### 算术运算符\n",
    "\n",
    "算术运算符用于执行各种数学运算。\n",
    "\n",
    "1. 加法运算符：`+`\n",
    "   - 用于将两个数相加。\n",
    "   - 示例：`a + b`\n",
    "\n",
    "2. 减法运算符：`-`\n",
    "   - 用于从一个数中减去另一个数。\n",
    "   - 示例：`a - b`\n",
    "\n",
    "3. 乘法运算符：`*`\n",
    "   - 用于将两个数相乘，或一个数与一个字符串重复。\n",
    "   - 示例：`a * b` 或 `a * \"Hello\"`\n",
    "\n",
    "4. 除法运算符：`/`\n",
    "   - 用于将一个数除以另一个数，返回浮点数结果。\n",
    "   - 示例：`a / b`\n",
    "\n",
    "5. 整数除法运算符：`//`\n",
    "   - 用于将一个数除以另一个数，返回整数结果（向下取整）。\n",
    "   - 示例：`a // b`\n",
    "\n",
    "6. 取模运算符：`%`\n",
    "   - 用于获取两个数相除的余数。\n",
    "   - 示例：`a % b`\n",
    "\n",
    "7. 幂运算符：`**`\n",
    "   - 用于计算一个数的幂次方。\n",
    "   - 示例：`a ** b`\n",
    "\n",
    "8. 正号运算符：`+`\n",
    "   - 用于表示一个数的正值。（不执行任何操作）\n",
    "   - 示例：`+a`\n",
    "\n",
    "9. 负号运算符：`-`\n",
    "   - 用于表示一个数的负值。\n",
    "   - 示例：`-a`"
   ],
   "metadata": {
    "collapsed": false
   },
   "id": "679f1cc6b0417501"
  },
  {
   "cell_type": "markdown",
   "source": [
    "### 比较运算符\n",
    "\n",
    "比较运算符用于比较两个值并返回布尔值（True或False）。\n",
    "\n",
    "1. 相等运算符：`==`\n",
    "   - 检查两个值是否相等。\n",
    "   - 示例：`a == b`\n",
    "\n",
    "2. 不等运算符：`!=`\n",
    "   - 检查两个值是否不相等。\n",
    "   - 示例：`a != b`\n",
    "\n",
    "3. 大于运算符：`>`\n",
    "   - 检查左侧的值是否大于右侧的值。\n",
    "   - 示例：`a > b`\n",
    "\n",
    "4. 小于运算符：`<`\n",
    "   - 检查左侧的值是否小于右侧的值。\n",
    "   - 示例：`a < b`\n",
    "\n",
    "5. 大于等于运算符：`>=`\n",
    "   - 检查左侧的值是否大于等于右侧的值。\n",
    "   - 示例：`a >= b`\n",
    "\n",
    "6. 小于等于运算符：`<=`\n",
    "   - 检查左侧的值是否小于等于右侧的值。\n",
    "   - 示例：`a <= b`"
   ],
   "metadata": {
    "collapsed": false
   },
   "id": "2705a79a38565ed8"
  },
  {
   "cell_type": "markdown",
   "source": [
    "### 赋值运算符\n",
    "\n",
    "赋值运算符用于将值赋给变量。\n",
    "\n",
    "1. 简单赋值运算符：`=`\n",
    "   - 将右侧的值赋给左侧的变量。\n",
    "   - 示例：`a = 10`\n",
    "\n",
    "2. 增量赋值运算符：`+=`, `-=`, `*=`, `/=`, `//=`, `%=` 等\n",
    "   - 将右侧的值与左侧的变量进行相应的运算，并将结果赋给左侧的变量。\n",
    "   - 示例：`a += 5` 相当于 `a = a + 5`\n",
    "\n",
    "3. 链式赋值运算符：`=`\n",
    "   - 将一个值同时赋给多个变量。\n",
    "   - 示例：`a = b = c = 10`\n",
    "\n",
    "4. 交叉赋值运算符：`=`\n",
    "   - 交换两个变量的值。\n",
    "   - 示例：`a, b = b, a`\n",
    "\n",
    "5. 解压赋值运算符：`*`\n",
    "   - 将一个可迭代对象的值分解并依次赋给多个变量。\n",
    "   - 示例：`a, b, *c = [1, 2, 3, 4, 5]`"
   ],
   "metadata": {
    "collapsed": false
   },
   "id": "d6317f9386f8f65"
  },
  {
   "cell_type": "code",
   "execution_count": 39,
   "outputs": [
    {
     "name": "stdout",
     "output_type": "stream",
     "text": [
      "1\n",
      "2\n",
      "3\n"
     ]
    }
   ],
   "source": [
    "a, b, c = [1, 2, 3]\n",
    "print(a)\n",
    "print(b)\n",
    "print(c)"
   ],
   "metadata": {
    "collapsed": false,
    "ExecuteTime": {
     "end_time": "2023-12-10T04:11:01.414769600Z",
     "start_time": "2023-12-10T04:11:01.388859400Z"
    }
   },
   "id": "df59d6f3d485ab29"
  },
  {
   "cell_type": "code",
   "execution_count": 40,
   "outputs": [
    {
     "name": "stdout",
     "output_type": "stream",
     "text": [
      "4\n",
      "5\n",
      "6\n"
     ]
    }
   ],
   "source": [
    "x, y, z = (4, 5, 6)\n",
    "print(x)\n",
    "print(y)\n",
    "print(z)"
   ],
   "metadata": {
    "collapsed": false,
    "ExecuteTime": {
     "end_time": "2023-12-10T04:11:01.440684600Z",
     "start_time": "2023-12-10T04:11:01.417764400Z"
    }
   },
   "id": "3b3387ae643ee8b2"
  },
  {
   "cell_type": "code",
   "execution_count": 41,
   "outputs": [
    {
     "name": "stdout",
     "output_type": "stream",
     "text": [
      "h\n",
      "e\n",
      "l\n",
      "l\n",
      "o\n"
     ]
    }
   ],
   "source": [
    "s = \"hello\"\n",
    "a, b, c, d, e = s\n",
    "print(a)\n",
    "print(b)\n",
    "print(c)\n",
    "print(d)\n",
    "print(e)"
   ],
   "metadata": {
    "collapsed": false,
    "ExecuteTime": {
     "end_time": "2023-12-10T04:11:01.466604500Z",
     "start_time": "2023-12-10T04:11:01.443674600Z"
    }
   },
   "id": "f5cab54300706072"
  },
  {
   "cell_type": "code",
   "execution_count": 42,
   "outputs": [
    {
     "name": "stdout",
     "output_type": "stream",
     "text": [
      "1\n",
      "[2, 3, 4]\n",
      "5\n"
     ]
    }
   ],
   "source": [
    "a, *b, c = [1, 2, 3, 4, 5]\n",
    "print(a)\n",
    "print(b)\n",
    "print(c)"
   ],
   "metadata": {
    "collapsed": false,
    "ExecuteTime": {
     "end_time": "2023-12-10T04:11:01.508384600Z",
     "start_time": "2023-12-10T04:11:01.468592200Z"
    }
   },
   "id": "cfb84d9ca0fee35f"
  },
  {
   "cell_type": "markdown",
   "source": [
    "### 逻辑运算符\n",
    "\n",
    "Python中的逻辑运算符用于组合逻辑表达式，并返回布尔类型（True或False）的结果\n",
    "\n",
    "1. 逻辑与运算符 `and`：\n",
    "   - 如果两个操作数都为True，则返回True，否则返回False。\n",
    "   - 示例：`a and b`\n",
    "\n",
    "2. 逻辑或运算符 `or`：\n",
    "   - 如果两个操作数中有任意一个为True，则返回True，否则返回False。\n",
    "   - 示例：`a or b`\n",
    "\n",
    "3. 逻辑非运算符 `not`：\n",
    "   - 如果操作数为True，则返回False，否则返回True。\n",
    "   - 示例：`not a`\n",
    "\n",
    "当在Python中使用多个逻辑运算符（and或or）连接多个表达式时，根据“短路求值”规则，解释器将会从左到右依次计算每个表达式的值，并在必要时停止计算。\n",
    "\n",
    "在使用and运算符连接多个表达式时，如果有任意一个表达式的值为False，则整个逻辑表达式的值就为False，无需再计算后续的表达式。反之，如果所有表达式的值均为True，则整个逻辑表达式的值为True。\n",
    "\n",
    "同样地，在使用or运算符连接多个表达式时，如果有任意一个表达式的值为True，则整个逻辑表达式的值就为True，无需再计算后续的表达式。反之，如果所有表达式的值均为False，则整个逻辑表达式的值为False。\n",
    "\n",
    "优先级not>and>or"
   ],
   "metadata": {
    "collapsed": false
   },
   "id": "73be2df50d0fdd"
  },
  {
   "cell_type": "markdown",
   "source": [
    "### 位运算符\n",
    "\n",
    "位运算符用于对整数在二进制位上进行操作。\n",
    "\n",
    "1. 按位与运算符 `&`：\n",
    "   - 对两个操作数的每个对应位执行逻辑与操作，如果两个位都为1，则结果为1，否则为0。\n",
    "   - 示例：`a & b`\n",
    "\n",
    "2. 按位或运算符 `|`：\n",
    "   - 对两个操作数的每个对应位执行逻辑或操作，如果两个位至少有一个为1，则结果为1，否则为0。\n",
    "   - 示例：`a | b`\n",
    "\n",
    "3. 按位异或运算符 `^`：\n",
    "   - 对两个操作数的每个对应位执行逻辑异或操作，如果两个位不相同，则结果为1，否则为0。\n",
    "   - 示例：`a ^ b`\n",
    "\n",
    "4. 按位取反运算符 `~`：\n",
    "   - 对操作数的每个位执行逻辑取反操作，即将0变为1，将1变为0。\n",
    "   - 示例：`~a`\n",
    "\n",
    "5. 左移运算符 `<<`：\n",
    "   - 将操作数的二进制表示向左移动指定的位数，右侧用0填充。\n",
    "   - 示例：`a << b`\n",
    "\n",
    "6. 右移运算符 `>>`：\n",
    "   - 将操作数的二进制表示向右移动指定的位数，左侧用符号位填充（对于正数是0，负数是1）。\n",
    "   - 示例：`a >> b`"
   ],
   "metadata": {
    "collapsed": false
   },
   "id": "75c8b1e08c26ffab"
  },
  {
   "cell_type": "code",
   "execution_count": 43,
   "outputs": [
    {
     "name": "stdout",
     "output_type": "stream",
     "text": [
      "Bitwise AND: 2\n",
      "Bitwise OR: 14\n",
      "Bitwise XOR: 12\n",
      "Bitwise NOT: -11\n",
      "Left Shift: 40\n",
      "Right Shift: 2\n"
     ]
    }
   ],
   "source": [
    "a = 10  # 二进制表示为 1010\n",
    "b = 6   # 二进制表示为 0110\n",
    "\n",
    "# 使用按位与运算符\n",
    "result_and = a & b\n",
    "print(\"Bitwise AND:\", result_and)\n",
    "\n",
    "# 使用按位或运算符\n",
    "result_or = a | b\n",
    "print(\"Bitwise OR:\", result_or)\n",
    "\n",
    "# 使用按位异或运算符\n",
    "result_xor = a ^ b\n",
    "print(\"Bitwise XOR:\", result_xor)\n",
    "\n",
    "# 使用按位取反运算符\n",
    "result_not = ~a\n",
    "print(\"Bitwise NOT:\", result_not)\n",
    "\n",
    "# 使用左移运算符\n",
    "result_left_shift = a << 2\n",
    "print(\"Left Shift:\", result_left_shift)\n",
    "\n",
    "# 使用右移运算符\n",
    "result_right_shift = a >> 2\n",
    "print(\"Right Shift:\", result_right_shift)"
   ],
   "metadata": {
    "collapsed": false,
    "ExecuteTime": {
     "end_time": "2023-12-10T04:11:01.510698400Z",
     "start_time": "2023-12-10T04:11:01.490523700Z"
    }
   },
   "id": "8dbbb84aaf8d1a3a"
  },
  {
   "cell_type": "markdown",
   "source": [
    "### 成员运算符\n",
    "\n",
    "成员运算符用于检查指定的值是否存在于某个序列或集合中。\n",
    "\n",
    "1. `in`：如果指定的值在序列或集合中，则返回True，否则返回False。\n",
    "   - 示例：`x in y`\n",
    "\n",
    "2. `not in`：如果指定的值不在序列或集合中，则返回True，否则返回False。\n",
    "   - 示例：`x not in y`"
   ],
   "metadata": {
    "collapsed": false
   },
   "id": "fbca9943aca12796"
  },
  {
   "cell_type": "code",
   "execution_count": 44,
   "outputs": [
    {
     "name": "stdout",
     "output_type": "stream",
     "text": [
      "In Operator: True True\n",
      "Not In Operator: True True\n"
     ]
    }
   ],
   "source": [
    "list_a = [1, 2, 3, 4, 5]\n",
    "set_b = {6, 7, 8, 9, 10}\n",
    "\n",
    "# 使用in运算符\n",
    "result_in_1 = 3 in list_a\n",
    "result_in_2 = 6 in set_b\n",
    "print(\"In Operator:\", result_in_1, result_in_2)\n",
    "\n",
    "# 使用not in运算符\n",
    "result_not_in_1 = 6 not in list_a\n",
    "result_not_in_2 = 3 not in set_b\n",
    "print(\"Not In Operator:\", result_not_in_1, result_not_in_2)"
   ],
   "metadata": {
    "collapsed": false,
    "ExecuteTime": {
     "end_time": "2023-12-10T04:11:01.571993200Z",
     "start_time": "2023-12-10T04:11:01.515149Z"
    }
   },
   "id": "c042ef94f146a0ca"
  },
  {
   "cell_type": "markdown",
   "source": [
    "### 身份运算符\n",
    "\n",
    "Python提供了三个身份运算符，用于检查两个对象是否引用同一个内存地址。\n",
    "\n",
    "以下是常用的身份运算符：\n",
    "\n",
    "1. `is`：如果两个对象具有相同的内存地址，则返回True，否则返回False。\n",
    "   - 示例：`x is y`\n",
    "\n",
    "2. `is not`：如果两个对象具有不同的内存地址，则返回True，否则返回False。\n",
    "   - 示例：`x is not y`\n",
    "\n",
    "3. `id()`：用于获取对象的内存地址，并返回一个整数值。\n",
    "   - 示例：`id(x)`"
   ],
   "metadata": {
    "collapsed": false
   },
   "id": "e8127a515fbfa9fc"
  },
  {
   "cell_type": "markdown",
   "source": [],
   "metadata": {
    "collapsed": false
   },
   "id": "9b0d7b6c8bffbde"
  },
  {
   "cell_type": "code",
   "execution_count": 45,
   "outputs": [
    {
     "name": "stdout",
     "output_type": "stream",
     "text": [
      "Is Operator: True False\n",
      "Is Not Operator: False True\n",
      "ID of a: 2247962535040\n",
      "ID of b: 2247962535040\n",
      "ID of c: 2247962248256\n"
     ]
    }
   ],
   "source": [
    "a = [1, 2, 3]\n",
    "b = a\n",
    "c = [1, 2, 3]\n",
    "\n",
    "# 使用is运算符\n",
    "result_is_1 = a is b\n",
    "result_is_2 = a is c\n",
    "print(\"Is Operator:\", result_is_1, result_is_2)\n",
    "\n",
    "# 使用is not运算符\n",
    "result_is_not_1 = a is not b\n",
    "result_is_not_2 = a is not c\n",
    "print(\"Is Not Operator:\", result_is_not_1, result_is_not_2)\n",
    "\n",
    "# 使用id函数\n",
    "print(\"ID of a:\", id(a))\n",
    "print(\"ID of b:\", id(b))\n",
    "print(\"ID of c:\", id(c))"
   ],
   "metadata": {
    "collapsed": false,
    "ExecuteTime": {
     "end_time": "2023-12-10T04:11:01.575963200Z",
     "start_time": "2023-12-10T04:11:01.532601Z"
    }
   },
   "id": "f4a75adf7c19b7dd"
  },
  {
   "cell_type": "markdown",
   "source": [
    "`==` 和 `is` 是两个不同的比较运算符，它们分别用于比较对象的值和对象的身份（内存地址）。\n",
    "\n",
    "1. `==` 比较运算符：\n",
    "   - 用于检查两个对象的值是否相等，如果两个对象的值相等，则返回True，否则返回False。\n",
    "   - 示例：`x == y`\n",
    "\n",
    "2. `is` 身份运算符：\n",
    "   - 用于检查两个对象是否引用同一块内存地址（即是否为同一个对象），如果是同一对象，则返回True，否则返回False。\n",
    "   - 示例：`x is y`\n",
    "\n",
    "如果需要检查值是否相等，应该使用 `==` 比较运算符；\n",
    "如果需要检查对象是否为同一对象，应该使用 `is` 身份运算符。"
   ],
   "metadata": {
    "collapsed": false
   },
   "id": "8a1c0a9caca44441"
  },
  {
   "cell_type": "code",
   "execution_count": 46,
   "outputs": [
    {
     "name": "stdout",
     "output_type": "stream",
     "text": [
      "True\n",
      "True\n",
      "True\n",
      "False\n"
     ]
    }
   ],
   "source": [
    "a = [1, 2, 3]\n",
    "b = a\n",
    "c = [1, 2, 3]\n",
    "\n",
    "# 使用==比较运算符\n",
    "print(a == b)  # 输出 True，因为a和b的值相等\n",
    "print(a == c)  # 输出 True，因为a和c的值相等\n",
    "\n",
    "# 使用is身份运算符\n",
    "print(a is b)  # 输出 True，因为a和b引用同一对象\n",
    "print(a is c)  # 输出 False，因为a和c引用不同的对象"
   ],
   "metadata": {
    "collapsed": false,
    "ExecuteTime": {
     "end_time": "2023-12-10T04:11:01.628107400Z",
     "start_time": "2023-12-10T04:11:01.579947400Z"
    }
   },
   "id": "143fb651e0cd6169"
  }
 ],
 "metadata": {
  "kernelspec": {
   "display_name": "Python 3",
   "language": "python",
   "name": "python3"
  },
  "language_info": {
   "codemirror_mode": {
    "name": "ipython",
    "version": 2
   },
   "file_extension": ".py",
   "mimetype": "text/x-python",
   "name": "python",
   "nbconvert_exporter": "python",
   "pygments_lexer": "ipython2",
   "version": "2.7.6"
  }
 },
 "nbformat": 4,
 "nbformat_minor": 5
}
