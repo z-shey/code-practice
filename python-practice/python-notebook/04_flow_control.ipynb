{
 "cells": [
  {
   "cell_type": "markdown",
   "source": [
    "python 流程控制"
   ],
   "metadata": {
    "collapsed": false
   },
   "id": "cea645a79358544a"
  },
  {
   "cell_type": "markdown",
   "source": [
    "## 条件判断语句"
   ],
   "metadata": {
    "collapsed": false
   },
   "id": "939310d7fdf2c72b"
  },
  {
   "cell_type": "markdown",
   "source": [
    "## 循环语句"
   ],
   "metadata": {
    "collapsed": false
   },
   "id": "4e1810f86512ee2c"
  }
 ],
 "metadata": {
  "kernelspec": {
   "display_name": "Python 3",
   "language": "python",
   "name": "python3"
  },
  "language_info": {
   "codemirror_mode": {
    "name": "ipython",
    "version": 2
   },
   "file_extension": ".py",
   "mimetype": "text/x-python",
   "name": "python",
   "nbconvert_exporter": "python",
   "pygments_lexer": "ipython2",
   "version": "2.7.6"
  }
 },
 "nbformat": 4,
 "nbformat_minor": 5
}
